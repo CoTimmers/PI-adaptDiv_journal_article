{
 "cells": [
  {
   "cell_type": "markdown",
   "metadata": {},
   "source": [
    "# Imports"
   ]
  },
  {
   "cell_type": "code",
   "execution_count": null,
   "metadata": {},
   "outputs": [],
   "source": [
    "import sys\n",
    "sys.path.insert(0, '..')\n",
    "\n",
    "\n",
    "import numpy as np\n",
    "from scipy import stats\n",
    "\n",
    "from DB_connection import DB_connection\n",
    "from diversity_metrics import compute_user_entropy, compute_user_recommended_diversity, shanon_entropy, compute_user_diversity_evolution, compute_user_pref\n",
    "\n",
    "\n",
    "db_connection = DB_connection()\n"
   ]
  },
  {
   "cell_type": "markdown",
   "metadata": {},
   "source": [
    "## Usefull functions"
   ]
  },
  {
   "cell_type": "code",
   "execution_count": null,
   "metadata": {},
   "outputs": [],
   "source": [
    "def compute_pairwise_statistical_significance(dict):\n",
    "    keys = list(dict.keys())\n",
    "    for i in range(len(keys)):\n",
    "        for j in range(len(keys)):\n",
    "            if i < j:\n",
    "                key1 = keys[i]\n",
    "                key2 = keys[j]\n",
    "                tvalue, pvalue = stats.ttest_ind(dict[key1], dict[key2])\n",
    "                print(f\"Comparing {key1:<11}  and {key2:<11} : p-value = {pvalue}\")\n",
    "\n",
    "def cronbach_alpha(data):\n",
    "    items = data.shape[1]\n",
    "    item_variances = data.var(axis=0, ddof=1)\n",
    "    total_variance = data.sum(axis=1).var(ddof=1)\n",
    "    alpha = (items / (items - 1)) * (1 - (item_variances.sum() / total_variance))\n",
    "    return alpha\n"
   ]
  },
  {
   "cell_type": "markdown",
   "metadata": {},
   "source": [
    "# 1. Diversity "
   ]
  },
  {
   "cell_type": "markdown",
   "metadata": {},
   "source": [
    "## 1.1. Consumed Diversity"
   ]
  },
  {
   "cell_type": "code",
   "execution_count": 36,
   "metadata": {},
   "outputs": [
    {
     "name": "stdout",
     "output_type": "stream",
     "text": [
      "Mean consumed diversities for each RS:\n",
      "{'SVD': -0.014856734221075116, 'MMR': -0.008806676166025257, 'PI-adaptDiv': 0.05395753774378324, 'EDC': 0.13096070949611754}\n",
      " \n",
      "Pairwise statistical significance for consumed diversities:\n",
      "Comparing SVD          and MMR         : p-value = 0.8852772267713933\n",
      "Comparing SVD          and PI-adaptDiv : p-value = 0.07481703721910103\n",
      "Comparing SVD          and EDC         : p-value = 0.00022808297746113417\n",
      "Comparing MMR          and PI-adaptDiv : p-value = 0.06553038691078435\n",
      "Comparing MMR          and EDC         : p-value = 5.217223459003382e-05\n",
      "Comparing PI-adaptDiv  and EDC         : p-value = 0.006250814610517748\n"
     ]
    }
   ],
   "source": [
    "users_by_rs = db_connection.get_users_by_RS()\n",
    "recommendation_systems = users_by_rs.keys()\n",
    "\n",
    "consumed_diversities_dict = dict()\n",
    "mean_consumed_diversities_dict = dict()\n",
    "\n",
    "\n",
    "for rs in recommendation_systems:\n",
    "    consumed_diversities = []\n",
    "   \n",
    "    for user_id in users_by_rs[rs]:\n",
    "        user_pref = compute_user_pref(user_id)\n",
    "        user_pref = [float(p) for p in user_pref]\n",
    "        entropy_user_pref = shanon_entropy(user_pref)\n",
    "        consumed_diversities.append(compute_user_entropy(user_id)-entropy_user_pref)\n",
    "           \n",
    "    consumed_diversities_dict[rs] = consumed_diversities\n",
    "    mean_consumed_diversities_dict[rs] = float(np.mean(consumed_diversities))\n",
    "\n",
    "print(\"Mean consumed diversities for each RS:\")\n",
    "print(mean_consumed_diversities_dict)\n",
    "\n",
    "print(\" \")\n",
    "print(\"Pairwise statistical significance for consumed diversities:\")\n",
    "compute_pairwise_statistical_significance(consumed_diversities_dict)\n",
    "  "
   ]
  },
  {
   "cell_type": "markdown",
   "metadata": {},
   "source": [
    "## 1.2. Recommended Diversity"
   ]
  },
  {
   "cell_type": "code",
   "execution_count": null,
   "metadata": {},
   "outputs": [
    {
     "name": "stdout",
     "output_type": "stream",
     "text": [
      "Mean consumed diversities for each RS:\n",
      "{'SVD': 0.9004757381882205, 'MMR': 0.9567431082355601, 'PI-adaptDiv': 0.8940760899612328, 'EDC': 0.9454359530424176}\n",
      " \n",
      "Pairwise statistical significance for consumed diversities:\n",
      "Comparing SVD          and MMR         : p-value = 8.518901767099905e-07\n",
      "Comparing SVD          and PI-adaptDiv : p-value = 0.7184607373028657\n",
      "Comparing SVD          and EDC         : p-value = 0.0001500767484907311\n",
      "Comparing MMR          and PI-adaptDiv : p-value = 0.0002069413864776718\n",
      "Comparing MMR          and EDC         : p-value = 0.08680460146427861\n",
      "Comparing PI-adaptDiv  and EDC         : p-value = 0.0026358881592459683\n"
     ]
    }
   ],
   "source": [
    "users_by_rs = db_connection.get_users_by_RS()\n",
    "recommendation_systems = users_by_rs.keys()\n",
    "\n",
    "recommended_diversities_dict = dict()\n",
    "mean_recommended_diversities_dict = dict()\n",
    "\n",
    "\n",
    "for rs in recommendation_systems:\n",
    "    recommended_diversities = []\n",
    "   \n",
    "    for user_id in users_by_rs[rs]:\n",
    "        recommended_diversities.append(compute_user_recommended_diversity(user_id))\n",
    "           \n",
    "    recommended_diversities_dict[rs] = recommended_diversities\n",
    "    mean_recommended_diversities_dict[rs] = float(np.mean(recommended_diversities))\n",
    "\n",
    "print(\"Mean Recommended diversities for each RS:\")\n",
    "print(mean_recommended_diversities_dict)\n",
    "\n",
    "print(\" \")\n",
    "print(\"Pairwise statistical significance for recommended diversities:\")\n",
    "compute_pairwise_statistical_significance(recommended_diversities_dict)"
   ]
  },
  {
   "cell_type": "markdown",
   "metadata": {},
   "source": [
    "## 1.3. User Perceived diversity"
   ]
  },
  {
   "cell_type": "code",
   "execution_count": null,
   "metadata": {},
   "outputs": [
    {
     "name": "stdout",
     "output_type": "stream",
     "text": [
      "Mean user perceived diversities for each RS:\n",
      "{'SVD': 0.9855072463768116, 'MMR': 1.391304347826087, 'PI-adaptDiv': 1.2133333333333334, 'EDC': 1.1304347826086956}\n",
      " \n",
      "Pairwise statistical significance for user perceived diversities:\n",
      "Comparing SVD          and MMR         : p-value = 0.10409963242082707\n",
      "Comparing SVD          and PI-adaptDiv : p-value = 0.34832275853722594\n",
      "Comparing SVD          and EDC         : p-value = 0.6050037203028922\n",
      "Comparing MMR          and PI-adaptDiv : p-value = 0.17060813788272325\n",
      "Comparing MMR          and EDC         : p-value = 0.1533031489477533\n",
      "Comparing PI-adaptDiv  and EDC         : p-value = 0.6478578160148937\n"
     ]
    }
   ],
   "source": [
    "user_perceived_div_dic = dict()\n",
    "mean_user_perceived_div_dic = dict()\n",
    "for rs in recommendation_systems:\n",
    "\n",
    "\n",
    "    user_perceived_div_list = []\n",
    "    for user_id in users_by_rs[rs]:\n",
    "        query = f\"SELECT * FROM user WHERE id ={user_id} \"\n",
    "        user = db_connection.select(query)\n",
    "        m = (user[\"q2_answer\"][0] - user[\"q3_answer\"][0] + user[\"q5_answer\"][0])/3\n",
    "        user_perceived_div_list.append(m)\n",
    "    user_perceived_div_dic[rs] = user_perceived_div_list\n",
    "    mean_user_perceived_div_dic[rs] = float(np.mean(user_perceived_div_list))\n",
    "\n",
    "print(\"Mean user perceived diversities for each RS:\")\n",
    "print(mean_user_perceived_div_dic)\n",
    "print(\" \")\n",
    "print(\"Pairwise statistical significance for user perceived diversities:\")\n",
    "compute_pairwise_statistical_significance(user_perceived_div_dic)\n"
   ]
  },
  {
   "cell_type": "markdown",
   "metadata": {},
   "source": [
    "### 1.3.1. Chronbach alpha diversity questions"
   ]
  },
  {
   "cell_type": "code",
   "execution_count": 41,
   "metadata": {},
   "outputs": [
    {
     "name": "stdout",
     "output_type": "stream",
     "text": [
      "Cronbach alpha for diversity related questions : 0.8494048320565702\n"
     ]
    }
   ],
   "source": [
    "diversity_questions_df = db_connection.select(f\"SELECT q2_answer,q3_answer,q5_answer FROM user WHERE q2_answer NOT NULL\")\n",
    "diversity_questions_df['q3_answer'] = diversity_questions_df['q3_answer'] * -1\n",
    "\n",
    "print(f\"Cronbach alpha for diversity related questions : {cronbach_alpha(diversity_questions_df)}\")\n"
   ]
  },
  {
   "cell_type": "markdown",
   "metadata": {},
   "source": [
    "# 2. Quality"
   ]
  },
  {
   "cell_type": "markdown",
   "metadata": {},
   "source": [
    "## 2.1. Average rating change : $\\Delta\\bar{r}$"
   ]
  },
  {
   "cell_type": "code",
   "execution_count": 44,
   "metadata": {},
   "outputs": [
    {
     "name": "stdout",
     "output_type": "stream",
     "text": [
      "Mean ratings for each RS:\n",
      "{'SVD': 0.09579667044357451, 'MMR': 0.09631885365819562, 'PI-adaptDiv': 0.11256262978606507, 'EDC': -0.0003263253312428742}\n",
      " \n",
      "Pairwise statistical significance for ratings:\n",
      "Comparing SVD          and MMR         : p-value = 0.993043538045776\n",
      "Comparing SVD          and PI-adaptDiv : p-value = 0.78703682838287\n",
      "Comparing SVD          and EDC         : p-value = 0.06062201852386858\n",
      "Comparing MMR          and PI-adaptDiv : p-value = 0.8065859879534105\n",
      "Comparing MMR          and EDC         : p-value = 0.08884128206924478\n",
      "Comparing PI-adaptDiv  and EDC         : p-value = 0.058405086677762404\n"
     ]
    }
   ],
   "source": [
    "users_by_rs = db_connection.get_users_by_RS()\n",
    "recommendation_systems = users_by_rs.keys()\n",
    "\n",
    "ratings_dict = dict()\n",
    "mean_ratings_dict = dict()\n",
    "\n",
    "for rs in recommendation_systems:\n",
    "\n",
    "    ratings = []\n",
    "    for user_id in users_by_rs[rs]:\n",
    "\n",
    "        ratings_cold_start = db_connection.get_user_ratings(user_id)[0]\n",
    "        ratings_experiment = db_connection.get_user_ratings(user_id)[1]\n",
    "        ratings.append((float(np.mean(ratings_experiment))-float(np.mean(ratings_cold_start)))/float(np.mean(ratings_cold_start+ratings_experiment) ))\n",
    "   \n",
    "    ratings_dict[rs] = ratings\n",
    "    mean_ratings_dict[rs] = float(np.mean(ratings))\n",
    "\n",
    "print(\"Mean ratings for each RS:\")\n",
    "print(mean_ratings_dict)\n",
    "print(\" \")\n",
    "print(\"Pairwise statistical significance for ratings:\")\n",
    "compute_pairwise_statistical_significance(ratings_dict)\n"
   ]
  },
  {
   "cell_type": "markdown",
   "metadata": {},
   "source": [
    "## 2.2. Probability no choice"
   ]
  },
  {
   "cell_type": "code",
   "execution_count": 46,
   "metadata": {},
   "outputs": [
    {
     "name": "stdout",
     "output_type": "stream",
     "text": [
      "Mean number of no choice for each RS:\n",
      "{'SVD': 11.08695652173913, 'MMR': 12.608695652173912, 'PI-adaptDiv': 19.0, 'EDC': 17.47826086956522}\n",
      " \n",
      "Pairwise statistical significance for number of no choice:\n",
      "Comparing SVD          and MMR         : p-value = 0.657694256588141\n",
      "Comparing SVD          and PI-adaptDiv : p-value = 0.10146781001611392\n",
      "Comparing SVD          and EDC         : p-value = 0.17946458416410127\n",
      "Comparing MMR          and PI-adaptDiv : p-value = 0.16562065373568266\n",
      "Comparing MMR          and EDC         : p-value = 0.2815581174518696\n",
      "Comparing PI-adaptDiv  and EDC         : p-value = 0.7825827832933604\n"
     ]
    }
   ],
   "source": [
    "user_nbr_no_choice_dic = dict()\n",
    "user_nbr_no_choice_mean_dic = dict()\n",
    "for rs in recommendation_systems:\n",
    "    user_nbr_no_choice_list = []\n",
    "    for user_id in users_by_rs[rs]:\n",
    "        query = f\"SELECT * FROM behavior WHERE user_id={user_id} AND chosen_item is NULL\"\n",
    "        user_behavior = db_connection.select(query)\n",
    "        user_nbr_no_choice_list.append(len(user_behavior))\n",
    "    user_nbr_no_choice_dic[rs] = user_nbr_no_choice_list\n",
    "    user_nbr_no_choice_mean_dic[rs] = float(np.mean(user_nbr_no_choice_list))\n",
    "\n",
    "print(\"Mean number of no choice for each RS:\")\n",
    "print(user_nbr_no_choice_mean_dic)\n",
    "print(\" \")\n",
    "print(\"Pairwise statistical significance for number of no choice:\")\n",
    "compute_pairwise_statistical_significance(user_nbr_no_choice_dic)"
   ]
  },
  {
   "cell_type": "markdown",
   "metadata": {},
   "source": [
    "## 2.3. User perceived quality"
   ]
  },
  {
   "cell_type": "code",
   "execution_count": 47,
   "metadata": {},
   "outputs": [
    {
     "name": "stdout",
     "output_type": "stream",
     "text": [
      "Mean user perceived quality for each RS:\n",
      "{'SVD': 0.9478260869565218, 'MMR': 0.8173913043478261, 'PI-adaptDiv': 0.784, 'EDC': -0.2339130434782609}\n",
      " \n",
      "Pairwise statistical significance for user perceived quality:\n",
      "Comparing SVD          and MMR         : p-value = 0.5939567530572368\n",
      "Comparing SVD          and PI-adaptDiv : p-value = 0.525713022482702\n",
      "Comparing SVD          and EDC         : p-value = 0.0003280308370634218\n",
      "Comparing MMR          and PI-adaptDiv : p-value = 0.8902402950294724\n",
      "Comparing MMR          and EDC         : p-value = 0.0007182913990208283\n",
      "Comparing PI-adaptDiv  and EDC         : p-value = 0.0012913241004558465\n"
     ]
    }
   ],
   "source": [
    "user_perceived_quality_dic = dict()\n",
    "mean_user_perceived_quality_dic = dict()\n",
    "for rs in recommendation_systems:\n",
    "    user_perceived_quality_list = []\n",
    "    for user_id in users_by_rs[rs]:\n",
    "        query = f\"SELECT * FROM user WHERE id ={user_id} \"\n",
    "        user = db_connection.select(query)\n",
    "        m = (user[\"q1_answer\"][0] + user[\"q4_answer\"][0] + user[\"q6_answer\"][0]+ user[\"q7_answer\"][0]+ user[\"q8_answer\"][0])/5\n",
    "        user_perceived_quality_list.append(m)\n",
    "    user_perceived_quality_dic[rs] = user_perceived_quality_list\n",
    "    mean_user_perceived_quality_dic[rs] = float(np.mean(user_perceived_quality_list))\n",
    "\n",
    "print(\"Mean user perceived quality for each RS:\")\n",
    "print(mean_user_perceived_quality_dic)\n",
    "print(\" \")\n",
    "print(\"Pairwise statistical significance for user perceived quality:\")\n",
    "compute_pairwise_statistical_significance(user_perceived_quality_dic)"
   ]
  },
  {
   "cell_type": "markdown",
   "metadata": {},
   "source": [
    "### 2.3.1. Cronbach alpha for quality questions"
   ]
  },
  {
   "cell_type": "code",
   "execution_count": 48,
   "metadata": {},
   "outputs": [
    {
     "name": "stdout",
     "output_type": "stream",
     "text": [
      "Cronbach alpha for quality related questions : 0.9470512920081847\n"
     ]
    }
   ],
   "source": [
    "quality_questions_df = db_connection.select(f\"SELECT q1_answer,q4_answer,q6_answer,q7_answer,q8_answer  FROM user WHERE q1_answer NOT NULL\")\n",
    "print(f\"Cronbach alpha for quality related questions : {cronbach_alpha(quality_questions_df)}\")"
   ]
  },
  {
   "cell_type": "markdown",
   "metadata": {},
   "source": [
    "# 3. Quality VS Diversity"
   ]
  },
  {
   "cell_type": "code",
   "execution_count": 49,
   "metadata": {},
   "outputs": [
    {
     "data": {
      "text/plain": [
       "Text(0, 0.5, 'Quality($\\\\Delta r)$')"
      ]
     },
     "execution_count": 49,
     "metadata": {},
     "output_type": "execute_result"
    },
    {
     "data": {
      "image/png": "[encoded data removed]",
      "text/plain": [
       "<Figure size 800x600 with 1 Axes>"
      ]
     },
     "metadata": {},
     "output_type": "display_data"
    }
   ],
   "source": [
    "from matplotlib.patches import Rectangle\n",
    "from matplotlib.lines import Line2D\n",
    "from matplotlib import rcParams\n",
    "import matplotlib.pyplot as plt\n",
    "default_colors = rcParams['axes.prop_cycle'].by_key()['color']\n",
    "\n",
    "def confidence_interval_2D(x, y, ax, whis=1.5, color=None, label=None,xlabel = None, ylabel = None):\n",
    "    # Ensure x and y are NumPy arrays\n",
    "    x = np.asarray(x)\n",
    "    y = np.asarray(y)\n",
    "\n",
    "    mean_x = np.mean(x, axis=0)\n",
    "    CI_x = stats.sem(x, axis=0) * 1.96\n",
    "\n",
    "    mean_y = np.mean(y, axis=0)\n",
    "    CI_y = stats.sem(y, axis=0)* 1.96\n",
    "    \n",
    "    ax.plot([mean_x], [mean_y], color=color, marker='o', markersize = 10)\n",
    "\n",
    "    box = Rectangle(\n",
    "        (mean_x - CI_x, mean_y-CI_y), 2*CI_x, 2*CI_y,\n",
    "        edgecolor=color,\n",
    "        facecolor=color,\n",
    "        alpha=0.4,\n",
    "        zorder=0,\n",
    "        label=label  # Add the label here for the legend\n",
    "    )\n",
    "    ax.add_patch(box)\n",
    "\n",
    "        ## The x median\n",
    "    vline = Line2D(\n",
    "       [ mean_x,mean_x], [mean_y -CI_y, mean_y +CI_y],\n",
    "        color=color,\n",
    "        zorder=1\n",
    "    )\n",
    "    ax.add_line(vline)\n",
    "\n",
    "    ## The y median\n",
    "    hline = Line2D(\n",
    "        [mean_x-CI_x, mean_x + CI_x], [mean_y, mean_y],\n",
    "        color=color,\n",
    "        zorder=1\n",
    "    )\n",
    "    ax.add_line(hline)\n",
    "    ax.set_xlabel(xlabel,fontsize = 14)\n",
    "    ax.set_ylabel(ylabel, fontsize =14)\n",
    "\n",
    "\n",
    "\n",
    "fig, ax = plt.subplots(figsize=(8, 6))\n",
    "\n",
    "confidence_interval_2D(consumed_diversities_dict[\"SVD\"],ratings_dict['SVD'],ax,color=default_colors[0], label=\"SVD\")\n",
    "confidence_interval_2D(consumed_diversities_dict[\"MMR\"],ratings_dict['MMR'],ax,color=default_colors[1], label=\"SVD+MMR\")\n",
    "confidence_interval_2D(consumed_diversities_dict[\"EDC\"],ratings_dict['EDC'],ax,color=default_colors[2], label=\"SVD+MMR-EDC\")\n",
    "confidence_interval_2D(consumed_diversities_dict[\"PI-adaptDiv\"],ratings_dict['PI-adaptDiv'],ax,color=default_colors[3], label=\"PI-adaptDiv\")\n",
    "\n",
    "ax.legend(loc='upper right', fontsize=12)\n",
    "ax.set_xlabel(\"Consumed Diversity change\", fontsize = 14)\n",
    "ax.set_ylabel(\"Quality($\\Delta r)$\", fontsize = 14)\n",
    "#plt.savefig('../output/figures/mean_CI_online.png', format='png', bbox_inches='tight')"
   ]
  }
 ],
 "metadata": {
  "kernelspec": {
   "display_name": ".venv",
   "language": "python",
   "name": "python3"
  },
  "language_info": {
   "codemirror_mode": {
    "name": "ipython",
    "version": 3
   },
   "file_extension": ".py",
   "mimetype": "text/x-python",
   "name": "python",
   "nbconvert_exporter": "python",
   "pygments_lexer": "ipython3",
   "version": "3.9.12"
  }
 },
 "nbformat": 4,
 "nbformat_minor": 2
}
